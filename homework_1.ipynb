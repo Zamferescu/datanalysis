{
 "cells": [
  {
   "cell_type": "code",
   "execution_count": null,
   "metadata": {},
   "outputs": [],
   "source": [
    "###########################################################\n",
    "### EXECUTE THIS CELL BEFORE YOU TO TEST YOUR SOLUTIONS ###\n",
    "###########################################################\n",
    "\n",
    "import imp, os, sys\n",
    "sol = imp.load_compiled(\"solutions\", \"./solutions.py\")\n",
    "sol.get_solutions(\"ufo-sightings.csv\")\n",
    "from nose.tools import assert_equal"
   ]
  },
  {
   "cell_type": "code",
   "execution_count": null,
   "metadata": {},
   "outputs": [],
   "source": [
    "'''\n",
    "1. Import the csv module. Load and read the UFO sightings data set, from the ufo-sightings.csv file, \n",
    "into a DictReader inside a with statement.  Assume the data file is in the same directory as the code. \n",
    "\n",
    "Print the field names of the data set. Iterate over the reader to put the data into a list name \"ufosightings\".\n",
    "\n",
    "'''\n",
    "\n",
    "# your code here\n",
    "import csv\n",
    "\n",
    "filepath = \"ufo-sightings.csv\"\n",
    "ufosightings = [] \n",
    "\n",
    "with open (filepath,'r') as csvfile:\n",
    "    reader = csv.DictReader(csvfile)\n",
    "    \n",
    "    filednames = reader.fieldnames\n",
    "    \n",
    "    [ufosightings.append(row) for row in reader]\n",
    "    \n",
    "print(filednames)"
   ]
  },
  {
   "cell_type": "code",
   "execution_count": null,
   "metadata": {},
   "outputs": [],
   "source": [
    "##########################\n",
    "### TEST YOUR SOLUTION ###\n",
    "##########################\n",
    "\n",
    "assert_equal(ufosightings, sol.ufosightings)\n",
    "print(\"Success!\")"
   ]
  },
  {
   "cell_type": "code",
   "execution_count": null,
   "metadata": {},
   "outputs": [],
   "source": [
    "'''\n",
    "2. How many sightings were there in total?  Put the count in \"ufosightings_count\" and print the result.\n",
    "'''\n",
    "# your code here\n",
    "ufosightings_count = len(ufosightings)\n",
    "print('The total number of sightings: ',ufosightings_count)"
   ]
  },
  {
   "cell_type": "code",
   "execution_count": null,
   "metadata": {},
   "outputs": [],
   "source": [
    "##########################\n",
    "### TEST YOUR SOLUTION ###\n",
    "##########################\n",
    "\n",
    "assert_equal(ufosightings_count, sol.ufosightings_count)\n",
    "print(\"Success!\")"
   ]
  },
  {
   "cell_type": "code",
   "execution_count": null,
   "metadata": {},
   "outputs": [],
   "source": [
    "'''\n",
    "3. How many sightings were there in the US?  Put the US sightings in \"sightings_us\" and print.\n",
    "\n",
    "Hint: Check for ufo sightings where the country is 'us'.\n",
    "\n",
    "'''\n",
    "\n",
    "# your code here\n",
    "\n",
    "sightings_us = [row for row in ufosightings if row[\"country\"] == \"us\"]\n",
    "##print('The total number of sightings in US ar: ',sightings_us)"
   ]
  },
  {
   "cell_type": "code",
   "execution_count": null,
   "metadata": {},
   "outputs": [],
   "source": [
    "##########################\n",
    "### TEST YOUR SOLUTION ###\n",
    "##########################\n",
    "\n",
    "assert_equal(sightings_us,  sol.sightings_us)\n",
    "print(\"Success!\")"
   ]
  },
  {
   "cell_type": "code",
   "execution_count": null,
   "metadata": {},
   "outputs": [],
   "source": [
    "'''\n",
    "4. Let's find the \"fireball\" sighting(s) that lasted more than ten seconds in US. \n",
    "Print the the datetime and state of each.  Put the data in \"fball\" and print the result.\n",
    "\n",
    "Note: Consider only the US sightings stored in \"sightings_us\".\n",
    "\n",
    "- Cast the duration in seconds to a float (decimal). \n",
    "- Check if duration is greater than 10. \n",
    "- Check if the shape is \"fireball\".\n",
    "\n",
    "'''\n",
    "#First, define a Python function that checks if a given duration (seconds) is \"valid\"\n",
    "def is_valid_duration(duration_as_string):\n",
    "# your code here\n",
    "    try:\n",
    "        duration_seconds = float(duration_as_string)  # try casting given string to flaod\n",
    "        \n",
    "    except ValueError:\n",
    "        \n",
    "        return False #return False if a ValueError is generated\n",
    "    \n",
    "    else:\n",
    "        \n",
    "        return duration_seconds > 0\n",
    "\n",
    "fball =[row for row in sightings_us if is_valid_duration(row['duration (seconds)']) \n",
    "        and row['shape'] == 'fireball' \n",
    "        and float(row['duration (seconds)']) > 10]"
   ]
  },
  {
   "cell_type": "code",
   "execution_count": null,
   "metadata": {},
   "outputs": [],
   "source": [
    "##########################\n",
    "### TEST YOUR SOLUTION ###\n",
    "##########################\n",
    "\n",
    "assert_equal(fball, sol.fball)\n",
    "print(\"Success!\")"
   ]
  },
  {
   "cell_type": "code",
   "execution_count": null,
   "metadata": {},
   "outputs": [],
   "source": [
    "'''\n",
    "5. Sort the above list by duration. What was the datetime and duration of the longest sighting?  \n",
    "Put the sorted list in \"fballsorted\" and print the result.\n",
    "\n",
    "- Cast the duration in seconds to a float (decimal). \n",
    "- Sort in reverse order.\n",
    "\n",
    "'''\n",
    "\n",
    "# your code here\n",
    "\n",
    "fballsorted = sorted(fball, key=lambda x: float(x['duration (seconds)']), reverse=True)"
   ]
  },
  {
   "cell_type": "code",
   "execution_count": null,
   "metadata": {},
   "outputs": [],
   "source": [
    "'''\n",
    "6. What state had the longest lasting \"fireball\"?   Put the state in \"state\" and print the result.\n",
    "\n",
    "- Check if the shape is \"fireball\".\n",
    "- Cast the duration in seconds to a float (decimal).\n",
    "- Get the record with the largest (max) duration in seconds.\n",
    "- Get the state for the record.\n",
    "\n",
    "'''\n",
    "\n",
    "\n",
    "state = fballsorted[0]['state']\n",
    "state"
   ]
  },
  {
   "cell_type": "code",
   "execution_count": null,
   "metadata": {},
   "outputs": [],
   "source": [
    "'''\n",
    "7. Let's assume that any sighting (of any shape) of 0 seconds is insignificant. \n",
    "Write code to filter out these extraneous records and get the shortest sighting overall now.  \n",
    "Put the minimum duration in \"min_duration\" and print the result.  \n",
    "Use ufosightings\n",
    "Note: Consider all sightings stored in \"ufosightings\".\n",
    "\n",
    "'''\n",
    "\n",
    "# your code here\n",
    "\n",
    "\n",
    "min_duration = float(\n",
    "                    min([row for row in ufosightings if is_valid_duration(row['duration (seconds)']) \n",
    "                    and float(row['duration (seconds)']) > 0], \n",
    "                    key=lambda x: float(x['duration (seconds)'])))\n",
    "                ['duration (seconds)']\n",
    "    )\n"
   ]
  },
  {
   "cell_type": "code",
   "execution_count": null,
   "metadata": {},
   "outputs": [],
   "source": [
    "'''\n",
    "8. What are the top 3 shapes sighted, and how many sightings were there for each? \n",
    "\n",
    "Note: Consider all sightings stored in \"ufosightings\".\n",
    "\n",
    "- Create a new list \"sightings_shapes\" containing values from the \"shape\" column in ufosightings.  \n",
    "- Create a new dictionary \"count\" with values of that column as keys and the counts as values.\n",
    "- Get a list of the dictionary keys and values using the items() method.  This will return a list of key:value pairs.\n",
    "Sort the list of key:value pairs in reverse order, from greatest (most sightings) to least.\n",
    "\n",
    "Get the top 3 and store in \"top3shapes\".  Print the result.\n",
    "\n",
    "'''\n",
    "\n",
    "#Create a new list containing values from the \"shape\" column in ufosightings.\n",
    "# your code here\n",
    "\n",
    "sightings_shapes = [row['shape'] for row in ufosightings]\n",
    "\n",
    "sightings_shapes = list(sightings_shapes)\n",
    "#Create a new dictionary with values of that column as keys and the counts as values.\n",
    "# your code here\n",
    "count = {}\n",
    "\n",
    "for value in sightings_shapes:\n",
    "    if value in count:\n",
    "        count[value] += 1\n",
    "    else:\n",
    "        count[value] = 1\n",
    "        \n",
    "\n",
    "#Get a list of the dictionary keys and values (use the items() method) and sort them in reverse order, from greatest (most sightings) to least.\n",
    "counts = sorted(count.items(), key=lambda item: item[1],reverse=True)\n",
    "\n",
    "count = {key: value for key, value in counts}\n",
    "\n",
    "#Get and print the top 3.\n",
    "\n",
    "top3shapes = counts[:3]\n",
    "\n",
    "count\n",
    "# your code here\n"
   ]
  }
 ],
 "metadata": {
  "language_info": {
   "name": "python"
  },
  "orig_nbformat": 4
 },
 "nbformat": 4,
 "nbformat_minor": 2
}
